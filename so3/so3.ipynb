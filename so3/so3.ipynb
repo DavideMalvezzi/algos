{
 "cells": [
  {
   "cell_type": "markdown",
   "metadata": {},
   "source": [
    "# $SO(3)$ and $so(3)$\n",
    "Given two rotation matrices $R_i$ and $R_j$ find the relative rotation $R_{ij}$ solving\n",
    "\\begin{align*}\n",
    "    \\min \\lVert R_j - R_{ij} R_i \\rVert^2\n",
    "\\end{align*}\n",
    "using the $so(3)$ reparametrization\n",
    "\\begin{align*}\n",
    "    \\min_{w \\in \\mathbb{R}^3} \\lVert R_j - \\exp(w) R_i \\rVert^2\n",
    "\\end{align*}\n",
    "The correct solution is given by\n",
    "\\begin{align*}\n",
    "    R_{ij} = R_j R_i^{-1} \n",
    "\\end{align*}\n"
   ]
  },
  {
   "cell_type": "code",
   "execution_count": 85,
   "metadata": {},
   "outputs": [],
   "source": [
    "import numpy as np\n",
    "import scipy.optimize as optimize\n",
    "from scipy.spatial.transform import Rotation"
   ]
  },
  {
   "cell_type": "code",
   "execution_count": 86,
   "metadata": {},
   "outputs": [],
   "source": [
    "def skew(w):\n",
    "    return np.array([[0, -w[2], w[1]], \n",
    "                     [w[2], 0, -w[0]], \n",
    "                     [-w[1], w[0], 0]])\n",
    "def rodrigues(w):\n",
    "    w_mod = np.linalg.norm(w)\n",
    "    if w_mod == 0:\n",
    "        return np.eye(3)\n",
    "\n",
    "    w_hat = skew(w)\n",
    "    w_norm = w_hat / w_mod\n",
    "    return np.eye(3) + w_norm * np.sin(w_mod) + w_norm @ w_norm * (1 - np.cos(w_mod))"
   ]
  },
  {
   "cell_type": "code",
   "execution_count": 87,
   "metadata": {},
   "outputs": [],
   "source": [
    "def loss(x, R_i, R_j):\n",
    "    R_ij = rodrigues(x)\n",
    "    return np.linalg.norm(R_j - R_ij @ R_i)**2"
   ]
  },
  {
   "cell_type": "code",
   "execution_count": 88,
   "metadata": {},
   "outputs": [
    {
     "name": "stdout",
     "output_type": "stream",
     "text": [
      "   Iteration     Total nfev        Cost      Cost reduction    Step norm     Optimality   \n",
      "       0              1         1.7388e+01                                    1.57e+01    \n",
      "       1              2         2.1256e+00      1.53e+01       1.00e+00       5.46e+00    \n",
      "       2              3         1.3201e+00      8.06e-01       2.00e+00       3.96e+00    \n",
      "       3              4         6.9408e-02      1.25e+00       5.00e-01       4.75e-01    \n",
      "       4              6         2.3312e-03      6.71e-02       2.50e-01       3.80e-02    \n",
      "       5              8         2.5967e-05      2.31e-03       1.25e-01       1.31e-03    \n",
      "       6             10         7.3706e-11      2.60e-05       6.25e-02       9.05e-08    \n",
      "       7             12         8.6565e-12      6.51e-11       3.91e-03       1.82e-08    \n",
      "       8             13         9.4160e-14      8.56e-12       9.77e-04       6.12e-10    \n",
      "       9             15         5.0992e-19      9.42e-14       4.88e-04       6.86e-14    \n",
      "`gtol` termination condition is satisfied.\n",
      "Function evaluations 15, initial cost 1.7388e+01, final cost 5.0992e-19, first-order optimality 6.86e-14.\n",
      "Loss: 1.0098732805569178e-09\n"
     ]
    }
   ],
   "source": [
    "# Generate a source and a target rotations\n",
    "R_i = Rotation.random()\n",
    "R_j = Rotation.random()\n",
    "\n",
    "# Solution is R_j (R_i)^-1\n",
    "R_ij_gt = R_j.as_matrix() @ R_i.inv().as_matrix() \n",
    "\n",
    "# Optimize\n",
    "res = optimize.least_squares(\n",
    "    fun=loss, \n",
    "    x0=np.zeros(3),\n",
    "    loss='linear',\n",
    "    xtol=1e-12,\n",
    "    ftol=1e-12,\n",
    "    gtol=1e-12,\n",
    "    verbose=2,\n",
    "    kwargs = {\n",
    "        'R_i': R_i.as_matrix(),\n",
    "        'R_j': R_j.as_matrix()\n",
    "    }\n",
    ")\n",
    "\n",
    "# Get solution\n",
    "R_ij = rodrigues(res.x)\n",
    "print(\"Loss:\", np.linalg.norm(R_ij_gt - R_ij)**2)\n",
    "\n"
   ]
  }
 ],
 "metadata": {
  "kernelspec": {
   "display_name": "Python 3.8.10 64-bit",
   "language": "python",
   "name": "python3"
  },
  "language_info": {
   "codemirror_mode": {
    "name": "ipython",
    "version": 3
   },
   "file_extension": ".py",
   "mimetype": "text/x-python",
   "name": "python",
   "nbconvert_exporter": "python",
   "pygments_lexer": "ipython3",
   "version": "3.8.10"
  },
  "orig_nbformat": 4,
  "vscode": {
   "interpreter": {
    "hash": "e7370f93d1d0cde622a1f8e1c04877d8463912d04d973331ad4851f04de6915a"
   }
  }
 },
 "nbformat": 4,
 "nbformat_minor": 2
}
