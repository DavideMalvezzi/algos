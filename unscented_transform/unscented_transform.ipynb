{
  "cells": [
    {
      "attachments": {},
      "cell_type": "markdown",
      "metadata": {
        "id": "zI3b8lxpaj6s"
      },
      "source": [
        "# Unscented transform\n",
        "\n",
        "The unscented transform is a statistical method used to approximate a probability distribution for a random variable. The unscented transform generates a set of \"sigma points\" that are selected to capture the key features of the distribution, such as mean, covariance, and higher-order moments. These sigma points are then propagated through a nonlinear function to obtain a transformed distribution. The transformed sigma points are then used to approximate the mean and covariance of the transformed distribution.\n",
        "\n",
        "In the unscented transform, alpha, beta, and kappa are parameters that control the spread of the sigma points around the mean of the distribution. They are usually selected based on the desired properties of the unscented transform, such as accuracy, robustness, and computational efficiency.\n",
        "\n",
        "- Alpha: Controls the spread of the sigma points around the mean of the distribution. A smaller alpha results in a tighter spread, which can lead to a more accurate estimate but also be more sensitive to outliers. A larger alpha results in a wider spread, which can lead to a more robust estimate but also be less accurate. Common values of alpha are between 0 and 1, with values of 0.001, 0.01, or 0.1 being common.\n",
        "\n",
        "- Beta: Controls the incorporation of higher-order statistical moments into the unscented transform. A value of 2 is commonly used for Gaussian distributions, which incorporates the mean and covariance of the distribution. A value greater than 2 can be used to incorporate higher-order moments, while a value less than 2 can be used to reduce the computational cost of the unscented transform.\n",
        "\n",
        "- Kappa: Controls the scaling of the sigma points. A value of 0 means that the sigma points are not scaled, while a positive value scales the spread of the sigma points to account for higher-dimensional distributions or to achieve a desired trade-off between accuracy and computational efficiency. A negative value of kappa is sometimes used to adjust the scaling of the sigma points in the unscented transform. However, its use is not as common as a positive value of kappa and its effect is not well understood.\n",
        "A negative value of kappa can cause the sigma points to be drawn from outside the distribution, which can result in unexpected behavior. Therefore, it is generally recommended to use a positive value of kappa or a value of 0 to avoid potential problems.\n",
        "\n",
        "The optimal values of alpha, beta, and kappa depend on the specific problem and distribution, and may need to be determined through trial and error or by using established guidelines."
      ]
    },
    {
      "cell_type": "code",
      "execution_count": 156,
      "metadata": {
        "id": "eeKulhOEdwSn"
      },
      "outputs": [],
      "source": [
        "import numpy as np\n",
        "import matplotlib.pyplot as plt"
      ]
    },
    {
      "cell_type": "code",
      "execution_count": 157,
      "metadata": {
        "id": "ypRhrfOug-aC"
      },
      "outputs": [],
      "source": [
        "def van_der_merwe_weights(size, alpha, kappa, beta):\n",
        "  lmbd = alpha ** 2 * (size + kappa) - kappa\n",
        "  wi = 1 / (2 * (size + lmbd))\n",
        "  wm = np.full(2 * size + 1, wi)\n",
        "  wc = np.full(2 * size + 1, wi)\n",
        "  wm[0] = lmbd / (size + lmbd)\n",
        "  wc[0] = wm[0] + (1 - alpha **2 - beta)\n",
        "  return wm, wc\n",
        "\n",
        "def unscented_transform(transform_functor, mean, cov, mean_weights, cov_weights, alpha, kappa):\n",
        "  # Input dimension\n",
        "  L = mean.shape[0]\n",
        "\n",
        "  # Sigma\n",
        "  lmbd = alpha ** 2 * (L + kappa) - kappa\n",
        "  sigma = np.sqrt(L * lmbd)\n",
        "\n",
        "  # Decompose covariance matric cov = L @ L.T\n",
        "  P = np.linalg.cholesky(cov)\n",
        "\n",
        "  # Generate sigma-points\n",
        "  sigma_points = np.zeros((2 * L + 1, L))\n",
        "  sigma_points[0, :] = mean\n",
        "  for i in range(0, L):\n",
        "    sigma_points[i + 1, :] = mean + sigma * P[:, i]\n",
        "    sigma_points[L + i + 1, :] = mean - sigma * P[:, i]\n",
        "\n",
        "  # Apply transformation to the sigma points\n",
        "  transformed_sigma_points = transform_functor(sigma_points)\n",
        "\n",
        "  # Compute transformation mean\n",
        "  mean_tr = transformed_sigma_points.T @ mean_weights\n",
        "\n",
        "  # Compute transformation covariance\n",
        "  centered_transformed_sigma_points = transformed_sigma_points - mean_tr\n",
        "  cov_tr = centered_transformed_sigma_points.T @ np.diag(cov_weights) @ centered_transformed_sigma_points\n",
        "\n",
        "  return mean_tr, cov_tr"
      ]
    },
    {
      "cell_type": "code",
      "execution_count": 158,
      "metadata": {},
      "outputs": [
        {
          "name": "stdout",
          "output_type": "stream",
          "text": [
            "input mean = [12.3  7.6]\n",
            "input covariance =\n",
            " [[1.44 0.  ]\n",
            " [0.   2.89]]\n",
            "transformation mean = [14.51616072  0.55146333]\n",
            "transformation covariance =\n",
            " [[1.22125441 0.02861947]\n",
            " [0.02861947 0.0080347 ]]\n"
          ]
        }
      ],
      "source": [
        "def cartesian_to_polar(x):\n",
        "    y = np.zeros(x.shape)\n",
        "    y[:, 0] = np.hypot(x[:, 0], x[:, 1])\n",
        "    y[:, 1] = np.arctan2(x[:, 1], x[:, 0])\n",
        "    return y\n",
        "\n",
        "# Input mean and covariancer\n",
        "mean = np.array([12.3, 7.6])\n",
        "cov = np.array([[1.44, 0.0], [0.0, 2.89]])\n",
        "print(\"input mean =\", mean)\n",
        "print(\"input covariance =\\n\", cov)\n",
        "\n",
        "# Unscented transform parameters\n",
        "alpha = 1e-2\n",
        "kappa = -1\n",
        "beta = 0\n",
        "input_size = mean.shape[0]\n",
        "\n",
        "# Unscented transform weights\n",
        "wm, wc = van_der_merwe_weights(input_size, alpha, kappa, beta)\n",
        "\n",
        "# Apply unscented transform\n",
        "tr_mean, tr_cov = unscented_transform(cartesian_to_polar, mean, cov, wm, wc, alpha, kappa)\n",
        "print(\"transformation mean =\", tr_mean)\n",
        "print(\"transformation covariance =\\n\", tr_cov)"
      ]
    }
  ],
  "metadata": {
    "colab": {
      "collapsed_sections": [
        "EBEumOvm7uu_"
      ],
      "include_colab_link": true,
      "provenance": [],
      "toc_visible": true
    },
    "kernelspec": {
      "display_name": "Python 3",
      "language": "python",
      "name": "python3"
    },
    "language_info": {
      "codemirror_mode": {
        "name": "ipython",
        "version": 3
      },
      "file_extension": ".py",
      "mimetype": "text/x-python",
      "name": "python",
      "nbconvert_exporter": "python",
      "pygments_lexer": "ipython3",
      "version": "3.8.10 (default, Nov 14 2022, 12:59:47) \n[GCC 9.4.0]"
    },
    "vscode": {
      "interpreter": {
        "hash": "31f2aee4e71d21fbe5cf8b01ff0e069b9275f58929596ceb00d14d90e3e16cd6"
      }
    }
  },
  "nbformat": 4,
  "nbformat_minor": 0
}
