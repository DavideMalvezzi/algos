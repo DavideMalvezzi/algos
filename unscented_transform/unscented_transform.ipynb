{
  "cells": [
    {
      "attachments": {},
      "cell_type": "markdown",
      "metadata": {
        "id": "zI3b8lxpaj6s"
      },
      "source": [
        "# Unscented transform\n",
        "\n",
        "\n",
        "\n",
        "\n"
      ]
    },
    {
      "cell_type": "code",
      "execution_count": 156,
      "metadata": {
        "id": "eeKulhOEdwSn"
      },
      "outputs": [],
      "source": [
        "import numpy as np\n",
        "import matplotlib.pyplot as plt"
      ]
    },
    {
      "cell_type": "code",
      "execution_count": 157,
      "metadata": {
        "id": "ypRhrfOug-aC"
      },
      "outputs": [],
      "source": [
        "def van_der_merwe_weights(size, alpha, kappa, beta):\n",
        "  lmbd = alpha ** 2 * (size + kappa) - kappa\n",
        "  wi = 1 / (2 * (size + lmbd))\n",
        "  wm = np.full(2 * size + 1, wi)\n",
        "  wc = np.full(2 * size + 1, wi)\n",
        "  wm[0] = lmbd / (size + lmbd)\n",
        "  wc[0] = wm[0] + (1 - alpha **2 - beta)\n",
        "  return wm, wc\n",
        "\n",
        "def unscented_transform(transform_functor, mean, cov, mean_weights, cov_weights, alpha, kappa):\n",
        "  # Input dimension\n",
        "  L = mean.shape[0]\n",
        "\n",
        "  # Sigma\n",
        "  lmbd = alpha ** 2 * (L + kappa) - kappa\n",
        "  sigma = np.sqrt(L * lmbd)\n",
        "\n",
        "  # Decompose covariance matric cov = L @ L.T\n",
        "  P = np.linalg.cholesky(cov)\n",
        "\n",
        "  # Generate sigma-points\n",
        "  sigma_points = np.zeros((2 * L + 1, L))\n",
        "  sigma_points[0, :] = mean\n",
        "  for i in range(0, L):\n",
        "    sigma_points[i + 1, :] = mean + sigma * P[:, i]\n",
        "    sigma_points[L + i + 1, :] = mean - sigma * P[:, i]\n",
        "\n",
        "  # Apply transformation to the sigma points\n",
        "  transformed_sigma_points = transform_functor(sigma_points)\n",
        "\n",
        "  # Compute transformation mean\n",
        "  mean_tr = transformed_sigma_points.T @ mean_weights\n",
        "\n",
        "  # Compute transformation covariance\n",
        "  centered_transformed_sigma_points = transformed_sigma_points - mean_tr\n",
        "  cov_tr = centered_transformed_sigma_points.T @ np.diag(cov_weights) @ centered_transformed_sigma_points\n",
        "\n",
        "  return mean_tr, cov_tr"
      ]
    },
    {
      "cell_type": "code",
      "execution_count": 158,
      "metadata": {},
      "outputs": [
        {
          "name": "stdout",
          "output_type": "stream",
          "text": [
            "input mean = [12.3  7.6]\n",
            "input covariance =\n",
            " [[1.44 0.  ]\n",
            " [0.   2.89]]\n",
            "transformation mean = [14.51616072  0.55146333]\n",
            "transformation covariance =\n",
            " [[1.22125441 0.02861947]\n",
            " [0.02861947 0.0080347 ]]\n"
          ]
        }
      ],
      "source": [
        "def cartesian_to_polar(x):\n",
        "    y = np.zeros(x.shape)\n",
        "    y[:, 0] = np.hypot(x[:, 0], x[:, 1])\n",
        "    y[:, 1] = np.arctan2(x[:, 1], x[:, 0])\n",
        "    return y\n",
        "\n",
        "# Input mean and covariancer\n",
        "mean = np.array([12.3, 7.6])\n",
        "cov = np.array([[1.44, 0.0], [0.0, 2.89]])\n",
        "print(\"input mean =\", mean)\n",
        "print(\"input covariance =\\n\", cov)\n",
        "\n",
        "# Unscented transform parameters\n",
        "alpha = 1e-2\n",
        "kappa = -1\n",
        "beta = 0\n",
        "input_size = mean.shape[0]\n",
        "\n",
        "# Unscented transform weights\n",
        "wm, wc = van_der_merwe_weights(input_size, alpha, kappa, beta)\n",
        "\n",
        "# Apply unscented transform\n",
        "tr_mean, tr_cov = unscented_transform(cartesian_to_polar, mean, cov, wm, wc, alpha, kappa)\n",
        "print(\"transformation mean =\", tr_mean)\n",
        "print(\"transformation covariance =\\n\", tr_cov)\n",
        "\n"
      ]
    }
  ],
  "metadata": {
    "colab": {
      "collapsed_sections": [
        "EBEumOvm7uu_"
      ],
      "include_colab_link": true,
      "provenance": [],
      "toc_visible": true
    },
    "kernelspec": {
      "display_name": "Python 3",
      "language": "python",
      "name": "python3"
    },
    "language_info": {
      "codemirror_mode": {
        "name": "ipython",
        "version": 3
      },
      "file_extension": ".py",
      "mimetype": "text/x-python",
      "name": "python",
      "nbconvert_exporter": "python",
      "pygments_lexer": "ipython3",
      "version": "3.8.10"
    },
    "vscode": {
      "interpreter": {
        "hash": "31f2aee4e71d21fbe5cf8b01ff0e069b9275f58929596ceb00d14d90e3e16cd6"
      }
    }
  },
  "nbformat": 4,
  "nbformat_minor": 0
}
