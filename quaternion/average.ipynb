{
 "cells": [
  {
   "attachments": {},
   "cell_type": "markdown",
   "metadata": {},
   "source": [
    "# Quaternion mean\n",
    "The quaternion mean is defined as the quaternion $q_{avg}$ which minimizes\n",
    "\\begin{align*}\n",
    "\\sum_i ||q_i - q_{avg}||^2\n",
    "\\end{align*}\n",
    "Given the matrix $Q$ where its columns are the quaternion to average, the problem can be solved computing the SVD of Q and taking the first left eigen vector"
   ]
  },
  {
   "cell_type": "code",
   "execution_count": 1,
   "metadata": {},
   "outputs": [],
   "source": [
    "import matplotlib.pyplot as plt\n",
    "import numpy as np\n",
    "from scipy.spatial.transform import Rotation as R"
   ]
  },
  {
   "cell_type": "code",
   "execution_count": 39,
   "metadata": {},
   "outputs": [],
   "source": [
    "def quaternion_mean(qs):\n",
    "    Q = np.array(qs)\n",
    "    U, _, _ = np.linalg.svd(Q.T)\n",
    "    return U[:, 0]"
   ]
  },
  {
   "cell_type": "code",
   "execution_count": 40,
   "metadata": {},
   "outputs": [
    {
     "name": "stdout",
     "output_type": "stream",
     "text": [
      "[-0.28867513 -0.28867513 -0.28867513 -0.8660254 ]\n",
      "[-0.28867513 -0.28867513 -0.28867513 -0.8660254 ]\n"
     ]
    }
   ],
   "source": [
    "qs = [\n",
    "    R.from_euler('zyx', [90, 0, 0], degrees=True).as_quat(),\n",
    "    R.from_euler('zyx', [0, 90, 0], degrees=True).as_quat(),\n",
    "    R.from_euler('zyx', [0, 0, 90], degrees=True).as_quat(),\n",
    "]\n",
    "\n",
    "q_avg = R.from_quat(quaternion_mean(qs))\n",
    "print(q_avg.as_quat())\n",
    "\n",
    "q_avg = R.from_quat(qs).mean()\n",
    "print(q_avg.as_quat())"
   ]
  }
 ],
 "metadata": {
  "kernelspec": {
   "display_name": "Python 3",
   "language": "python",
   "name": "python3"
  },
  "language_info": {
   "codemirror_mode": {
    "name": "ipython",
    "version": 3
   },
   "file_extension": ".py",
   "mimetype": "text/x-python",
   "name": "python",
   "nbconvert_exporter": "python",
   "pygments_lexer": "ipython3",
   "version": "3.8.10"
  },
  "orig_nbformat": 4,
  "vscode": {
   "interpreter": {
    "hash": "31f2aee4e71d21fbe5cf8b01ff0e069b9275f58929596ceb00d14d90e3e16cd6"
   }
  }
 },
 "nbformat": 4,
 "nbformat_minor": 2
}
